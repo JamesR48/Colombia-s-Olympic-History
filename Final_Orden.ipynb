{
 "cells": [
  {
   "cell_type": "code",
   "execution_count": 1,
   "metadata": {},
   "outputs": [],
   "source": [
    "#############                                                                                        #############\n",
    "\n",
    "##### Óscar Angarita(1201748), Andrés Lindarte(1201397), James Romero(1201786), Daniel Sandoval(1201770) ########\n",
    "\n",
    "############                                                                                         #############\n",
    "\n",
    "from IPython.core.interactiveshell import InteractiveShell \n",
    "InteractiveShell.ast_node_interactivity = \"all\"\n",
    "# Permite mostrar el resultado de cada linea de la misma celda\n",
    "import numpy as np #librería para computación científica\n",
    "import pandas as pd #librería para analisis de datos\n",
    "import seaborn as sns #librería para visualización de datos estadísticos\n",
    "import matplotlib.pyplot as plt #librería para crear graficas 2D\n",
    "import sklearn.linear_model as lm #libreria incluye modelo de regresión lineal"
   ]
  },
  {
   "cell_type": "code",
   "execution_count": 2,
   "metadata": {},
   "outputs": [
    {
     "data": {
      "text/plain": [
       "(271116, 15)"
      ]
     },
     "execution_count": 2,
     "metadata": {},
     "output_type": "execute_result"
    },
    {
     "data": {
      "text/html": [
       "<div>\n",
       "<style scoped>\n",
       "    .dataframe tbody tr th:only-of-type {\n",
       "        vertical-align: middle;\n",
       "    }\n",
       "\n",
       "    .dataframe tbody tr th {\n",
       "        vertical-align: top;\n",
       "    }\n",
       "\n",
       "    .dataframe thead th {\n",
       "        text-align: right;\n",
       "    }\n",
       "</style>\n",
       "<table border=\"1\" class=\"dataframe\">\n",
       "  <thead>\n",
       "    <tr style=\"text-align: right;\">\n",
       "      <th></th>\n",
       "      <th>ID</th>\n",
       "      <th>Age</th>\n",
       "      <th>Height</th>\n",
       "      <th>Weight</th>\n",
       "      <th>Year</th>\n",
       "    </tr>\n",
       "  </thead>\n",
       "  <tbody>\n",
       "    <tr>\n",
       "      <th>count</th>\n",
       "      <td>271116.000000</td>\n",
       "      <td>261642.000000</td>\n",
       "      <td>210945.000000</td>\n",
       "      <td>208241.000000</td>\n",
       "      <td>271116.000000</td>\n",
       "    </tr>\n",
       "    <tr>\n",
       "      <th>mean</th>\n",
       "      <td>68248.954396</td>\n",
       "      <td>25.556898</td>\n",
       "      <td>175.338970</td>\n",
       "      <td>70.702393</td>\n",
       "      <td>1978.378480</td>\n",
       "    </tr>\n",
       "    <tr>\n",
       "      <th>std</th>\n",
       "      <td>39022.286345</td>\n",
       "      <td>6.393561</td>\n",
       "      <td>10.518462</td>\n",
       "      <td>14.348020</td>\n",
       "      <td>29.877632</td>\n",
       "    </tr>\n",
       "    <tr>\n",
       "      <th>min</th>\n",
       "      <td>1.000000</td>\n",
       "      <td>10.000000</td>\n",
       "      <td>127.000000</td>\n",
       "      <td>25.000000</td>\n",
       "      <td>1896.000000</td>\n",
       "    </tr>\n",
       "    <tr>\n",
       "      <th>25%</th>\n",
       "      <td>34643.000000</td>\n",
       "      <td>21.000000</td>\n",
       "      <td>168.000000</td>\n",
       "      <td>60.000000</td>\n",
       "      <td>1960.000000</td>\n",
       "    </tr>\n",
       "    <tr>\n",
       "      <th>50%</th>\n",
       "      <td>68205.000000</td>\n",
       "      <td>24.000000</td>\n",
       "      <td>175.000000</td>\n",
       "      <td>70.000000</td>\n",
       "      <td>1988.000000</td>\n",
       "    </tr>\n",
       "    <tr>\n",
       "      <th>75%</th>\n",
       "      <td>102097.250000</td>\n",
       "      <td>28.000000</td>\n",
       "      <td>183.000000</td>\n",
       "      <td>79.000000</td>\n",
       "      <td>2002.000000</td>\n",
       "    </tr>\n",
       "    <tr>\n",
       "      <th>max</th>\n",
       "      <td>135571.000000</td>\n",
       "      <td>97.000000</td>\n",
       "      <td>226.000000</td>\n",
       "      <td>214.000000</td>\n",
       "      <td>2016.000000</td>\n",
       "    </tr>\n",
       "  </tbody>\n",
       "</table>\n",
       "</div>"
      ],
      "text/plain": [
       "                  ID            Age         Height         Weight  \\\n",
       "count  271116.000000  261642.000000  210945.000000  208241.000000   \n",
       "mean    68248.954396      25.556898     175.338970      70.702393   \n",
       "std     39022.286345       6.393561      10.518462      14.348020   \n",
       "min         1.000000      10.000000     127.000000      25.000000   \n",
       "25%     34643.000000      21.000000     168.000000      60.000000   \n",
       "50%     68205.000000      24.000000     175.000000      70.000000   \n",
       "75%    102097.250000      28.000000     183.000000      79.000000   \n",
       "max    135571.000000      97.000000     226.000000     214.000000   \n",
       "\n",
       "                Year  \n",
       "count  271116.000000  \n",
       "mean     1978.378480  \n",
       "std        29.877632  \n",
       "min      1896.000000  \n",
       "25%      1960.000000  \n",
       "50%      1988.000000  \n",
       "75%      2002.000000  \n",
       "max      2016.000000  "
      ]
     },
     "execution_count": 2,
     "metadata": {},
     "output_type": "execute_result"
    },
    {
     "data": {
      "text/html": [
       "<div>\n",
       "<style scoped>\n",
       "    .dataframe tbody tr th:only-of-type {\n",
       "        vertical-align: middle;\n",
       "    }\n",
       "\n",
       "    .dataframe tbody tr th {\n",
       "        vertical-align: top;\n",
       "    }\n",
       "\n",
       "    .dataframe thead th {\n",
       "        text-align: right;\n",
       "    }\n",
       "</style>\n",
       "<table border=\"1\" class=\"dataframe\">\n",
       "  <thead>\n",
       "    <tr style=\"text-align: right;\">\n",
       "      <th></th>\n",
       "      <th>ID</th>\n",
       "      <th>Name</th>\n",
       "      <th>Sex</th>\n",
       "      <th>Age</th>\n",
       "      <th>Height</th>\n",
       "      <th>Weight</th>\n",
       "      <th>Team</th>\n",
       "      <th>NOC</th>\n",
       "      <th>Games</th>\n",
       "      <th>Year</th>\n",
       "      <th>Season</th>\n",
       "      <th>City</th>\n",
       "      <th>Sport</th>\n",
       "      <th>Event</th>\n",
       "      <th>Medal</th>\n",
       "    </tr>\n",
       "  </thead>\n",
       "  <tbody>\n",
       "    <tr>\n",
       "      <th>0</th>\n",
       "      <td>1</td>\n",
       "      <td>A Dijiang</td>\n",
       "      <td>M</td>\n",
       "      <td>24.0</td>\n",
       "      <td>180.0</td>\n",
       "      <td>80.0</td>\n",
       "      <td>China</td>\n",
       "      <td>CHN</td>\n",
       "      <td>1992 Summer</td>\n",
       "      <td>1992</td>\n",
       "      <td>Summer</td>\n",
       "      <td>Barcelona</td>\n",
       "      <td>Basketball</td>\n",
       "      <td>Basketball Men's Basketball</td>\n",
       "      <td>NaN</td>\n",
       "    </tr>\n",
       "    <tr>\n",
       "      <th>1</th>\n",
       "      <td>2</td>\n",
       "      <td>A Lamusi</td>\n",
       "      <td>M</td>\n",
       "      <td>23.0</td>\n",
       "      <td>170.0</td>\n",
       "      <td>60.0</td>\n",
       "      <td>China</td>\n",
       "      <td>CHN</td>\n",
       "      <td>2012 Summer</td>\n",
       "      <td>2012</td>\n",
       "      <td>Summer</td>\n",
       "      <td>London</td>\n",
       "      <td>Judo</td>\n",
       "      <td>Judo Men's Extra-Lightweight</td>\n",
       "      <td>NaN</td>\n",
       "    </tr>\n",
       "    <tr>\n",
       "      <th>2</th>\n",
       "      <td>3</td>\n",
       "      <td>Gunnar Nielsen Aaby</td>\n",
       "      <td>M</td>\n",
       "      <td>24.0</td>\n",
       "      <td>NaN</td>\n",
       "      <td>NaN</td>\n",
       "      <td>Denmark</td>\n",
       "      <td>DEN</td>\n",
       "      <td>1920 Summer</td>\n",
       "      <td>1920</td>\n",
       "      <td>Summer</td>\n",
       "      <td>Antwerpen</td>\n",
       "      <td>Football</td>\n",
       "      <td>Football Men's Football</td>\n",
       "      <td>NaN</td>\n",
       "    </tr>\n",
       "    <tr>\n",
       "      <th>3</th>\n",
       "      <td>4</td>\n",
       "      <td>Edgar Lindenau Aabye</td>\n",
       "      <td>M</td>\n",
       "      <td>34.0</td>\n",
       "      <td>NaN</td>\n",
       "      <td>NaN</td>\n",
       "      <td>Denmark/Sweden</td>\n",
       "      <td>DEN</td>\n",
       "      <td>1900 Summer</td>\n",
       "      <td>1900</td>\n",
       "      <td>Summer</td>\n",
       "      <td>Paris</td>\n",
       "      <td>Tug-Of-War</td>\n",
       "      <td>Tug-Of-War Men's Tug-Of-War</td>\n",
       "      <td>Gold</td>\n",
       "    </tr>\n",
       "    <tr>\n",
       "      <th>4</th>\n",
       "      <td>5</td>\n",
       "      <td>Christine Jacoba Aaftink</td>\n",
       "      <td>F</td>\n",
       "      <td>21.0</td>\n",
       "      <td>185.0</td>\n",
       "      <td>82.0</td>\n",
       "      <td>Netherlands</td>\n",
       "      <td>NED</td>\n",
       "      <td>1988 Winter</td>\n",
       "      <td>1988</td>\n",
       "      <td>Winter</td>\n",
       "      <td>Calgary</td>\n",
       "      <td>Speed Skating</td>\n",
       "      <td>Speed Skating Women's 500 metres</td>\n",
       "      <td>NaN</td>\n",
       "    </tr>\n",
       "  </tbody>\n",
       "</table>\n",
       "</div>"
      ],
      "text/plain": [
       "   ID                      Name Sex   Age  Height  Weight            Team  \\\n",
       "0   1                 A Dijiang   M  24.0   180.0    80.0           China   \n",
       "1   2                  A Lamusi   M  23.0   170.0    60.0           China   \n",
       "2   3       Gunnar Nielsen Aaby   M  24.0     NaN     NaN         Denmark   \n",
       "3   4      Edgar Lindenau Aabye   M  34.0     NaN     NaN  Denmark/Sweden   \n",
       "4   5  Christine Jacoba Aaftink   F  21.0   185.0    82.0     Netherlands   \n",
       "\n",
       "   NOC        Games  Year  Season       City          Sport  \\\n",
       "0  CHN  1992 Summer  1992  Summer  Barcelona     Basketball   \n",
       "1  CHN  2012 Summer  2012  Summer     London           Judo   \n",
       "2  DEN  1920 Summer  1920  Summer  Antwerpen       Football   \n",
       "3  DEN  1900 Summer  1900  Summer      Paris     Tug-Of-War   \n",
       "4  NED  1988 Winter  1988  Winter    Calgary  Speed Skating   \n",
       "\n",
       "                              Event Medal  \n",
       "0       Basketball Men's Basketball   NaN  \n",
       "1      Judo Men's Extra-Lightweight   NaN  \n",
       "2           Football Men's Football   NaN  \n",
       "3       Tug-Of-War Men's Tug-Of-War  Gold  \n",
       "4  Speed Skating Women's 500 metres   NaN  "
      ]
     },
     "execution_count": 2,
     "metadata": {},
     "output_type": "execute_result"
    },
    {
     "name": "stdout",
     "output_type": "stream",
     "text": [
      "<class 'pandas.core.frame.DataFrame'>\n",
      "RangeIndex: 271116 entries, 0 to 271115\n",
      "Data columns (total 15 columns):\n",
      "ID        271116 non-null int64\n",
      "Name      271116 non-null object\n",
      "Sex       271116 non-null object\n",
      "Age       261642 non-null float64\n",
      "Height    210945 non-null float64\n",
      "Weight    208241 non-null float64\n",
      "Team      271116 non-null object\n",
      "NOC       271116 non-null object\n",
      "Games     271116 non-null object\n",
      "Year      271116 non-null int64\n",
      "Season    271116 non-null object\n",
      "City      271116 non-null object\n",
      "Sport     271116 non-null object\n",
      "Event     271116 non-null object\n",
      "Medal     39783 non-null object\n",
      "dtypes: float64(3), int64(2), object(10)\n",
      "memory usage: 31.0+ MB\n",
      "<class 'pandas.core.frame.DataFrame'>\n",
      "RangeIndex: 206165 entries, 0 to 206164\n",
      "Data columns (total 15 columns):\n",
      "ID             206165 non-null int64\n",
      "Name           206165 non-null object\n",
      "Sex            206165 non-null object\n",
      "Age (Years)    206165 non-null float64\n",
      "Height (cm)    206165 non-null float64\n",
      "Weight (kg)    206165 non-null float64\n",
      "Team           206165 non-null object\n",
      "NOC            206165 non-null object\n",
      "Games          206165 non-null object\n",
      "Year           206165 non-null int64\n",
      "Season         206165 non-null object\n",
      "City           206165 non-null object\n",
      "Sport          206165 non-null object\n",
      "Event          206165 non-null object\n",
      "Medal          206165 non-null object\n",
      "dtypes: float64(3), int64(2), object(10)\n",
      "memory usage: 23.6+ MB\n"
     ]
    },
    {
     "data": {
      "text/html": [
       "<div>\n",
       "<style scoped>\n",
       "    .dataframe tbody tr th:only-of-type {\n",
       "        vertical-align: middle;\n",
       "    }\n",
       "\n",
       "    .dataframe tbody tr th {\n",
       "        vertical-align: top;\n",
       "    }\n",
       "\n",
       "    .dataframe thead th {\n",
       "        text-align: right;\n",
       "    }\n",
       "</style>\n",
       "<table border=\"1\" class=\"dataframe\">\n",
       "  <thead>\n",
       "    <tr style=\"text-align: right;\">\n",
       "      <th></th>\n",
       "      <th>ID</th>\n",
       "      <th>Name</th>\n",
       "      <th>Sex</th>\n",
       "      <th>Age (Years)</th>\n",
       "      <th>Height (cm)</th>\n",
       "      <th>Weight (kg)</th>\n",
       "      <th>Team</th>\n",
       "      <th>NOC</th>\n",
       "      <th>Games</th>\n",
       "      <th>Year</th>\n",
       "      <th>Season</th>\n",
       "      <th>City</th>\n",
       "      <th>Sport</th>\n",
       "      <th>Event</th>\n",
       "      <th>Medal</th>\n",
       "    </tr>\n",
       "  </thead>\n",
       "  <tbody>\n",
       "    <tr>\n",
       "      <th>0</th>\n",
       "      <td>38860</td>\n",
       "      <td>Robert \"Bob\" Garrett</td>\n",
       "      <td>M</td>\n",
       "      <td>20.0</td>\n",
       "      <td>188.0</td>\n",
       "      <td>81.0</td>\n",
       "      <td>United States</td>\n",
       "      <td>USA</td>\n",
       "      <td>1896 Summer</td>\n",
       "      <td>1896</td>\n",
       "      <td>Summer</td>\n",
       "      <td>Athina</td>\n",
       "      <td>Athletics</td>\n",
       "      <td>Athletics Men's Shot Put</td>\n",
       "      <td>Gold</td>\n",
       "    </tr>\n",
       "    <tr>\n",
       "      <th>1</th>\n",
       "      <td>16616</td>\n",
       "      <td>Thomas Edmund \"Tom\" Burke</td>\n",
       "      <td>M</td>\n",
       "      <td>21.0</td>\n",
       "      <td>183.0</td>\n",
       "      <td>66.0</td>\n",
       "      <td>United States</td>\n",
       "      <td>USA</td>\n",
       "      <td>1896 Summer</td>\n",
       "      <td>1896</td>\n",
       "      <td>Summer</td>\n",
       "      <td>Athina</td>\n",
       "      <td>Athletics</td>\n",
       "      <td>Athletics Men's 400 metres</td>\n",
       "      <td>Gold</td>\n",
       "    </tr>\n",
       "    <tr>\n",
       "      <th>2</th>\n",
       "      <td>38860</td>\n",
       "      <td>Robert \"Bob\" Garrett</td>\n",
       "      <td>M</td>\n",
       "      <td>20.0</td>\n",
       "      <td>188.0</td>\n",
       "      <td>81.0</td>\n",
       "      <td>United States</td>\n",
       "      <td>USA</td>\n",
       "      <td>1896 Summer</td>\n",
       "      <td>1896</td>\n",
       "      <td>Summer</td>\n",
       "      <td>Athina</td>\n",
       "      <td>Athletics</td>\n",
       "      <td>Athletics Men's Discus Throw</td>\n",
       "      <td>Gold</td>\n",
       "    </tr>\n",
       "    <tr>\n",
       "      <th>3</th>\n",
       "      <td>22700</td>\n",
       "      <td>James Brendan Bennet Connolly</td>\n",
       "      <td>M</td>\n",
       "      <td>27.0</td>\n",
       "      <td>175.0</td>\n",
       "      <td>72.0</td>\n",
       "      <td>United States</td>\n",
       "      <td>USA</td>\n",
       "      <td>1896 Summer</td>\n",
       "      <td>1896</td>\n",
       "      <td>Summer</td>\n",
       "      <td>Athina</td>\n",
       "      <td>Athletics</td>\n",
       "      <td>Athletics Men's Long Jump</td>\n",
       "      <td>Bronze</td>\n",
       "    </tr>\n",
       "    <tr>\n",
       "      <th>4</th>\n",
       "      <td>38860</td>\n",
       "      <td>Robert \"Bob\" Garrett</td>\n",
       "      <td>M</td>\n",
       "      <td>20.0</td>\n",
       "      <td>188.0</td>\n",
       "      <td>81.0</td>\n",
       "      <td>United States</td>\n",
       "      <td>USA</td>\n",
       "      <td>1896 Summer</td>\n",
       "      <td>1896</td>\n",
       "      <td>Summer</td>\n",
       "      <td>Athina</td>\n",
       "      <td>Athletics</td>\n",
       "      <td>Athletics Men's Long Jump</td>\n",
       "      <td>Silver</td>\n",
       "    </tr>\n",
       "  </tbody>\n",
       "</table>\n",
       "</div>"
      ],
      "text/plain": [
       "      ID                           Name Sex  Age (Years)  Height (cm)  \\\n",
       "0  38860           Robert \"Bob\" Garrett   M         20.0        188.0   \n",
       "1  16616      Thomas Edmund \"Tom\" Burke   M         21.0        183.0   \n",
       "2  38860           Robert \"Bob\" Garrett   M         20.0        188.0   \n",
       "3  22700  James Brendan Bennet Connolly   M         27.0        175.0   \n",
       "4  38860           Robert \"Bob\" Garrett   M         20.0        188.0   \n",
       "\n",
       "   Weight (kg)           Team  NOC        Games  Year  Season    City  \\\n",
       "0         81.0  United States  USA  1896 Summer  1896  Summer  Athina   \n",
       "1         66.0  United States  USA  1896 Summer  1896  Summer  Athina   \n",
       "2         81.0  United States  USA  1896 Summer  1896  Summer  Athina   \n",
       "3         72.0  United States  USA  1896 Summer  1896  Summer  Athina   \n",
       "4         81.0  United States  USA  1896 Summer  1896  Summer  Athina   \n",
       "\n",
       "       Sport                         Event   Medal  \n",
       "0  Athletics      Athletics Men's Shot Put    Gold  \n",
       "1  Athletics    Athletics Men's 400 metres    Gold  \n",
       "2  Athletics  Athletics Men's Discus Throw    Gold  \n",
       "3  Athletics     Athletics Men's Long Jump  Bronze  \n",
       "4  Athletics     Athletics Men's Long Jump  Silver  "
      ]
     },
     "execution_count": 2,
     "metadata": {},
     "output_type": "execute_result"
    },
    {
     "data": {
      "text/html": [
       "<div>\n",
       "<style scoped>\n",
       "    .dataframe tbody tr th:only-of-type {\n",
       "        vertical-align: middle;\n",
       "    }\n",
       "\n",
       "    .dataframe tbody tr th {\n",
       "        vertical-align: top;\n",
       "    }\n",
       "\n",
       "    .dataframe thead th {\n",
       "        text-align: right;\n",
       "    }\n",
       "</style>\n",
       "<table border=\"1\" class=\"dataframe\">\n",
       "  <thead>\n",
       "    <tr style=\"text-align: right;\">\n",
       "      <th></th>\n",
       "      <th>ID</th>\n",
       "      <th>Age (Years)</th>\n",
       "      <th>Height (cm)</th>\n",
       "      <th>Weight (kg)</th>\n",
       "      <th>Year</th>\n",
       "    </tr>\n",
       "  </thead>\n",
       "  <tbody>\n",
       "    <tr>\n",
       "      <th>count</th>\n",
       "      <td>206165.000000</td>\n",
       "      <td>206165.000000</td>\n",
       "      <td>206165.000000</td>\n",
       "      <td>206165.000000</td>\n",
       "      <td>206165.000000</td>\n",
       "    </tr>\n",
       "    <tr>\n",
       "      <th>mean</th>\n",
       "      <td>68616.017675</td>\n",
       "      <td>25.055509</td>\n",
       "      <td>175.371950</td>\n",
       "      <td>70.688337</td>\n",
       "      <td>1989.674678</td>\n",
       "    </tr>\n",
       "    <tr>\n",
       "      <th>std</th>\n",
       "      <td>38996.514355</td>\n",
       "      <td>5.483096</td>\n",
       "      <td>10.546088</td>\n",
       "      <td>14.340338</td>\n",
       "      <td>20.130865</td>\n",
       "    </tr>\n",
       "    <tr>\n",
       "      <th>min</th>\n",
       "      <td>1.000000</td>\n",
       "      <td>11.000000</td>\n",
       "      <td>127.000000</td>\n",
       "      <td>25.000000</td>\n",
       "      <td>1896.000000</td>\n",
       "    </tr>\n",
       "    <tr>\n",
       "      <th>25%</th>\n",
       "      <td>35194.000000</td>\n",
       "      <td>21.000000</td>\n",
       "      <td>168.000000</td>\n",
       "      <td>60.000000</td>\n",
       "      <td>1976.000000</td>\n",
       "    </tr>\n",
       "    <tr>\n",
       "      <th>50%</th>\n",
       "      <td>68629.000000</td>\n",
       "      <td>24.000000</td>\n",
       "      <td>175.000000</td>\n",
       "      <td>70.000000</td>\n",
       "      <td>1992.000000</td>\n",
       "    </tr>\n",
       "    <tr>\n",
       "      <th>75%</th>\n",
       "      <td>102313.000000</td>\n",
       "      <td>28.000000</td>\n",
       "      <td>183.000000</td>\n",
       "      <td>79.000000</td>\n",
       "      <td>2006.000000</td>\n",
       "    </tr>\n",
       "    <tr>\n",
       "      <th>max</th>\n",
       "      <td>135571.000000</td>\n",
       "      <td>71.000000</td>\n",
       "      <td>226.000000</td>\n",
       "      <td>214.000000</td>\n",
       "      <td>2016.000000</td>\n",
       "    </tr>\n",
       "  </tbody>\n",
       "</table>\n",
       "</div>"
      ],
      "text/plain": [
       "                  ID    Age (Years)    Height (cm)    Weight (kg)  \\\n",
       "count  206165.000000  206165.000000  206165.000000  206165.000000   \n",
       "mean    68616.017675      25.055509     175.371950      70.688337   \n",
       "std     38996.514355       5.483096      10.546088      14.340338   \n",
       "min         1.000000      11.000000     127.000000      25.000000   \n",
       "25%     35194.000000      21.000000     168.000000      60.000000   \n",
       "50%     68629.000000      24.000000     175.000000      70.000000   \n",
       "75%    102313.000000      28.000000     183.000000      79.000000   \n",
       "max    135571.000000      71.000000     226.000000     214.000000   \n",
       "\n",
       "                Year  \n",
       "count  206165.000000  \n",
       "mean     1989.674678  \n",
       "std        20.130865  \n",
       "min      1896.000000  \n",
       "25%      1976.000000  \n",
       "50%      1992.000000  \n",
       "75%      2006.000000  \n",
       "max      2016.000000  "
      ]
     },
     "execution_count": 2,
     "metadata": {},
     "output_type": "execute_result"
    }
   ],
   "source": [
    "df=pd.read_csv('athlete_events.csv') #se guarda el dataset como un DF de Pandas\n",
    "df.shape #para ver el tamaño(filasxcolumnas) del DF\n",
    "df.describe() #Genera estadísticas descriptivas que resumen la tendencia central, la dispersión y la forma de la distribución de un conjunto de datos, excluyendo los valores NaN\n",
    "df.head() #Muestra las 5 primeras filas del DF\n",
    "df.info() #Muestra un resumen conciso del DF\n",
    "df = df[np.isfinite(df['Age'])] #Prueba los elementos para determinar la finitud (no infinito o no es un número). El resultado se devuelve como un arreglo booleano\n",
    "df = df[np.isfinite(df['Height'])] #Esto para limpiar algunos datos NaN en estas tres columnas\n",
    "df = df[np.isfinite(df['Weight'])]\n",
    "df=df.sort_values('Year') #Se ordena el DF por año. Originalmente ordenado por 'ID'\n",
    "#Reestablece el índice del DF y usa el predeterminado en su lugar\n",
    "#El drop es para que no intente insertar un índice en las columnas del marco de datos. Esto restablece el índice al índice entero predeterminado \n",
    "df = df.reset_index(drop=True)\n",
    "#Renombrar algunas columnas del DF para hacer clara las unidades que se manejan\n",
    "df=df.rename(columns = {'Age':'Age (Years)','Height':'Height (cm)','Weight':'Weight (kg)'})\n",
    "#Se crea un diccionario para poder cambiar los valores NaN de la columna 'Medal' por 'No Medal' y dejar claro que se refiere a que no se ganó medallas en ese espacio\n",
    "values = {'Medal': 'No Medal'}\n",
    "df=df.fillna(value=values) #fillna() es para rellenar los valores NaN de la forma que se especif\n",
    "df.info() #Se imprime un resumen nuevo para ver los cambios\n",
    "df.head() #Se imprime un head nuevo para ver los cambios\n",
    "df.describe() #Se imprime un describe nuevo para ver los cambios"
   ]
  },
  {
   "cell_type": "code",
   "execution_count": 5,
   "metadata": {},
   "outputs": [
    {
     "data": {
      "text/plain": [
       "False    24013\n",
       "True        27\n",
       "Name: NOC, dtype: int64"
      ]
     },
     "execution_count": 5,
     "metadata": {},
     "output_type": "execute_result"
    },
    {
     "data": {
      "text/plain": [
       "<Figure size 1800x720 with 0 Axes>"
      ]
     },
     "execution_count": 5,
     "metadata": {},
     "output_type": "execute_result"
    },
    {
     "data": {
      "text/plain": [
       "<matplotlib.axes._subplots.AxesSubplot at 0x26f6433d358>"
      ]
     },
     "execution_count": 5,
     "metadata": {},
     "output_type": "execute_result"
    },
    {
     "data": {
      "text/plain": [
       "Text(0.5, 1.0, 'Number of medals per NOC')"
      ]
     },
     "execution_count": 5,
     "metadata": {},
     "output_type": "execute_result"
    },
    {
     "data": {
      "text/plain": [
       "Text(0, 0.5, 'Total Medals')"
      ]
     },
     "execution_count": 5,
     "metadata": {},
     "output_type": "execute_result"
    },
    {
     "data": {
      "text/plain": [
       "Text(64, 500, '')"
      ]
     },
     "execution_count": 5,
     "metadata": {},
     "output_type": "execute_result"
    },
    {
     "data": {
      "text/plain": [
       "Text(64, 500, 'COLOMBIA')"
      ]
     },
     "execution_count": 5,
     "metadata": {},
     "output_type": "execute_result"
    },
    {
     "data": {
      "image/png": "[encoded data removed]",
      "text/plain": [
       "<Figure size 1800x720 with 1 Axes>"
      ]
     },
     "metadata": {
      "needs_background": "light"
     },
     "output_type": "display_data"
    }
   ],
   "source": [
    "#Se guarda en una variable los datos del DF que cumplan con la condición especificada\n",
    "totalYears=df['Year']>=1948 #Que el año sea mayor/igual a 1948 porque fue la 1ra aparición de Colombia en los olímpicos\n",
    "totalMed=df['Medal']!='No Medal' #Especifica que se hayan ganado medallas\n",
    "totalSummer=df['Season']=='Summer' #Especifica que sean juegos de verano ya que es donde Colombia participa comúnmente\n",
    "#Se crea un arreglo booleano a partir del DF original con los datos que cumplan las 3 condiciones anteriores\n",
    "totalMedals=df[totalMed & totalSummer & totalYears]\n",
    "#Se crea un arreglo booleano a partir del anterior que tenga todos los datos de Colombia con las 3 condiciones anteriores\n",
    "totalCOL=totalMedals['NOC']=='COL'\n",
    "totalCOL.value_counts() #Para saber cuantos elementos verdaderos tiene el arreglo, que dice la cantidad de medallas de Colombia\n",
    "#El contenedor de nivel superior para todos los elementos de graficado\n",
    "plt.figure(figsize=(25,10)) #figsize define el tamaño(anchoxalto) de la gráfica\n",
    "#Crea diagrama de barras a partir de las veces que aparezca un elemento de 'NOC' en el arreglo\n",
    "totalMedals.NOC.value_counts().plot.bar()\n",
    "plt.title('Number of medals per NOC')#Título del gráfico\n",
    "plt.ylabel('Total Medals')#Label del eje Y\n",
    "#Para dibujar la flecha y/o escribir texto, dibujar\n",
    "plt.annotate('', #String con texto a escribir\n",
    "            xy=(64, 50), #Posición donde apunta la flecha\n",
    "            xycoords='data', #Tipo de coordenadas de la flecha y el texto\n",
    "            xytext=(64, 500), #Posición donde se dibuja el texto\n",
    "            arrowprops=\n",
    "                {'facecolor':'black','shrink':0.05}) #Parametros de la flecha (color y compresión)\n",
    "#Para escribir texto (posición, texto, atributos, encerrado en)\n",
    "plt.text( 64,500, 'COLOMBIA',{'color': 'black', 'fontsize': 24, 'ha': 'center', 'va': 'center',\n",
    "          'bbox': dict(boxstyle=\"round\", fc=\"white\", ec=\"black\", pad=0.2)})\n",
    "#Dibujar una gráfica\n",
    "plt.show()"
   ]
  },
  {
   "cell_type": "code",
   "execution_count": 8,
   "metadata": {},
   "outputs": [
    {
     "data": {
      "text/plain": [
       "(945, 15)"
      ]
     },
     "execution_count": 8,
     "metadata": {},
     "output_type": "execute_result"
    },
    {
     "data": {
      "text/html": [
       "<div>\n",
       "<style scoped>\n",
       "    .dataframe tbody tr th:only-of-type {\n",
       "        vertical-align: middle;\n",
       "    }\n",
       "\n",
       "    .dataframe tbody tr th {\n",
       "        vertical-align: top;\n",
       "    }\n",
       "\n",
       "    .dataframe thead th {\n",
       "        text-align: right;\n",
       "    }\n",
       "</style>\n",
       "<table border=\"1\" class=\"dataframe\">\n",
       "  <thead>\n",
       "    <tr style=\"text-align: right;\">\n",
       "      <th></th>\n",
       "      <th>ID</th>\n",
       "      <th>Name</th>\n",
       "      <th>Sex</th>\n",
       "      <th>Age (Years)</th>\n",
       "      <th>Height (cm)</th>\n",
       "      <th>Weight (kg)</th>\n",
       "      <th>Team</th>\n",
       "      <th>NOC</th>\n",
       "      <th>Games</th>\n",
       "      <th>Year</th>\n",
       "      <th>Season</th>\n",
       "      <th>City</th>\n",
       "      <th>Sport</th>\n",
       "      <th>Event</th>\n",
       "      <th>Medal</th>\n",
       "    </tr>\n",
       "  </thead>\n",
       "  <tbody>\n",
       "    <tr>\n",
       "      <th>4742</th>\n",
       "      <td>4681</td>\n",
       "      <td>Jaime Aparicio Rodewalt</td>\n",
       "      <td>M</td>\n",
       "      <td>18.0</td>\n",
       "      <td>170.0</td>\n",
       "      <td>63.0</td>\n",
       "      <td>Colombia</td>\n",
       "      <td>COL</td>\n",
       "      <td>1948 Summer</td>\n",
       "      <td>1948</td>\n",
       "      <td>Summer</td>\n",
       "      <td>London</td>\n",
       "      <td>Athletics</td>\n",
       "      <td>Athletics Men's 400 metres Hurdles</td>\n",
       "      <td>No Medal</td>\n",
       "    </tr>\n",
       "    <tr>\n",
       "      <th>4743</th>\n",
       "      <td>4681</td>\n",
       "      <td>Jaime Aparicio Rodewalt</td>\n",
       "      <td>M</td>\n",
       "      <td>18.0</td>\n",
       "      <td>170.0</td>\n",
       "      <td>63.0</td>\n",
       "      <td>Colombia</td>\n",
       "      <td>COL</td>\n",
       "      <td>1948 Summer</td>\n",
       "      <td>1948</td>\n",
       "      <td>Summer</td>\n",
       "      <td>London</td>\n",
       "      <td>Athletics</td>\n",
       "      <td>Athletics Men's 400 metres</td>\n",
       "      <td>No Medal</td>\n",
       "    </tr>\n",
       "    <tr>\n",
       "      <th>8292</th>\n",
       "      <td>31316</td>\n",
       "      <td>Emilio Echeverry de la Roche</td>\n",
       "      <td>M</td>\n",
       "      <td>27.0</td>\n",
       "      <td>175.0</td>\n",
       "      <td>68.0</td>\n",
       "      <td>Colombia</td>\n",
       "      <td>COL</td>\n",
       "      <td>1956 Summer</td>\n",
       "      <td>1956</td>\n",
       "      <td>Summer</td>\n",
       "      <td>Melbourne</td>\n",
       "      <td>Fencing</td>\n",
       "      <td>Fencing Men's Sabre, Individual</td>\n",
       "      <td>No Medal</td>\n",
       "    </tr>\n",
       "    <tr>\n",
       "      <th>8293</th>\n",
       "      <td>31316</td>\n",
       "      <td>Emilio Echeverry de la Roche</td>\n",
       "      <td>M</td>\n",
       "      <td>27.0</td>\n",
       "      <td>175.0</td>\n",
       "      <td>68.0</td>\n",
       "      <td>Colombia</td>\n",
       "      <td>COL</td>\n",
       "      <td>1956 Summer</td>\n",
       "      <td>1956</td>\n",
       "      <td>Summer</td>\n",
       "      <td>Melbourne</td>\n",
       "      <td>Fencing</td>\n",
       "      <td>Fencing Men's epee, Team</td>\n",
       "      <td>No Medal</td>\n",
       "    </tr>\n",
       "    <tr>\n",
       "      <th>8305</th>\n",
       "      <td>31316</td>\n",
       "      <td>Emilio Echeverry de la Roche</td>\n",
       "      <td>M</td>\n",
       "      <td>27.0</td>\n",
       "      <td>175.0</td>\n",
       "      <td>68.0</td>\n",
       "      <td>Colombia</td>\n",
       "      <td>COL</td>\n",
       "      <td>1956 Summer</td>\n",
       "      <td>1956</td>\n",
       "      <td>Summer</td>\n",
       "      <td>Melbourne</td>\n",
       "      <td>Fencing</td>\n",
       "      <td>Fencing Men's epee, Individual</td>\n",
       "      <td>No Medal</td>\n",
       "    </tr>\n",
       "  </tbody>\n",
       "</table>\n",
       "</div>"
      ],
      "text/plain": [
       "         ID                          Name Sex  Age (Years)  Height (cm)  \\\n",
       "4742   4681      Jaime Aparicio Rodewalt    M         18.0        170.0   \n",
       "4743   4681      Jaime Aparicio Rodewalt    M         18.0        170.0   \n",
       "8292  31316  Emilio Echeverry de la Roche   M         27.0        175.0   \n",
       "8293  31316  Emilio Echeverry de la Roche   M         27.0        175.0   \n",
       "8305  31316  Emilio Echeverry de la Roche   M         27.0        175.0   \n",
       "\n",
       "      Weight (kg)      Team  NOC        Games  Year  Season       City  \\\n",
       "4742         63.0  Colombia  COL  1948 Summer  1948  Summer     London   \n",
       "4743         63.0  Colombia  COL  1948 Summer  1948  Summer     London   \n",
       "8292         68.0  Colombia  COL  1956 Summer  1956  Summer  Melbourne   \n",
       "8293         68.0  Colombia  COL  1956 Summer  1956  Summer  Melbourne   \n",
       "8305         68.0  Colombia  COL  1956 Summer  1956  Summer  Melbourne   \n",
       "\n",
       "          Sport                               Event     Medal  \n",
       "4742  Athletics  Athletics Men's 400 metres Hurdles  No Medal  \n",
       "4743  Athletics          Athletics Men's 400 metres  No Medal  \n",
       "8292    Fencing     Fencing Men's Sabre, Individual  No Medal  \n",
       "8293    Fencing            Fencing Men's epee, Team  No Medal  \n",
       "8305    Fencing      Fencing Men's epee, Individual  No Medal  "
      ]
     },
     "execution_count": 8,
     "metadata": {},
     "output_type": "execute_result"
    },
    {
     "data": {
      "text/html": [
       "<div>\n",
       "<style scoped>\n",
       "    .dataframe tbody tr th:only-of-type {\n",
       "        vertical-align: middle;\n",
       "    }\n",
       "\n",
       "    .dataframe tbody tr th {\n",
       "        vertical-align: top;\n",
       "    }\n",
       "\n",
       "    .dataframe thead th {\n",
       "        text-align: right;\n",
       "    }\n",
       "</style>\n",
       "<table border=\"1\" class=\"dataframe\">\n",
       "  <thead>\n",
       "    <tr style=\"text-align: right;\">\n",
       "      <th></th>\n",
       "      <th>ID</th>\n",
       "      <th>Age (Years)</th>\n",
       "      <th>Height (cm)</th>\n",
       "      <th>Weight (kg)</th>\n",
       "      <th>Year</th>\n",
       "    </tr>\n",
       "  </thead>\n",
       "  <tbody>\n",
       "    <tr>\n",
       "      <th>count</th>\n",
       "      <td>945.000000</td>\n",
       "      <td>945.000000</td>\n",
       "      <td>945.000000</td>\n",
       "      <td>945.000000</td>\n",
       "      <td>945.000000</td>\n",
       "    </tr>\n",
       "    <tr>\n",
       "      <th>mean</th>\n",
       "      <td>63965.737566</td>\n",
       "      <td>24.985185</td>\n",
       "      <td>169.752381</td>\n",
       "      <td>64.868254</td>\n",
       "      <td>1994.205291</td>\n",
       "    </tr>\n",
       "    <tr>\n",
       "      <th>std</th>\n",
       "      <td>39962.490656</td>\n",
       "      <td>6.017963</td>\n",
       "      <td>9.047547</td>\n",
       "      <td>10.337798</td>\n",
       "      <td>18.654422</td>\n",
       "    </tr>\n",
       "    <tr>\n",
       "      <th>min</th>\n",
       "      <td>574.000000</td>\n",
       "      <td>12.000000</td>\n",
       "      <td>138.000000</td>\n",
       "      <td>38.000000</td>\n",
       "      <td>1948.000000</td>\n",
       "    </tr>\n",
       "    <tr>\n",
       "      <th>25%</th>\n",
       "      <td>25877.000000</td>\n",
       "      <td>21.000000</td>\n",
       "      <td>164.000000</td>\n",
       "      <td>58.000000</td>\n",
       "      <td>1976.000000</td>\n",
       "    </tr>\n",
       "    <tr>\n",
       "      <th>50%</th>\n",
       "      <td>74563.000000</td>\n",
       "      <td>24.000000</td>\n",
       "      <td>170.000000</td>\n",
       "      <td>64.000000</td>\n",
       "      <td>2000.000000</td>\n",
       "    </tr>\n",
       "    <tr>\n",
       "      <th>75%</th>\n",
       "      <td>99964.000000</td>\n",
       "      <td>28.000000</td>\n",
       "      <td>175.000000</td>\n",
       "      <td>71.000000</td>\n",
       "      <td>2012.000000</td>\n",
       "    </tr>\n",
       "    <tr>\n",
       "      <th>max</th>\n",
       "      <td>135441.000000</td>\n",
       "      <td>52.000000</td>\n",
       "      <td>205.000000</td>\n",
       "      <td>110.000000</td>\n",
       "      <td>2016.000000</td>\n",
       "    </tr>\n",
       "  </tbody>\n",
       "</table>\n",
       "</div>"
      ],
      "text/plain": [
       "                  ID  Age (Years)  Height (cm)  Weight (kg)         Year\n",
       "count     945.000000   945.000000   945.000000   945.000000   945.000000\n",
       "mean    63965.737566    24.985185   169.752381    64.868254  1994.205291\n",
       "std     39962.490656     6.017963     9.047547    10.337798    18.654422\n",
       "min       574.000000    12.000000   138.000000    38.000000  1948.000000\n",
       "25%     25877.000000    21.000000   164.000000    58.000000  1976.000000\n",
       "50%     74563.000000    24.000000   170.000000    64.000000  2000.000000\n",
       "75%     99964.000000    28.000000   175.000000    71.000000  2012.000000\n",
       "max    135441.000000    52.000000   205.000000   110.000000  2016.000000"
      ]
     },
     "execution_count": 8,
     "metadata": {},
     "output_type": "execute_result"
    },
    {
     "name": "stderr",
     "output_type": "stream",
     "text": [
      "D:\\Anaconda\\lib\\site-packages\\ipykernel_launcher.py:6: UserWarning: Boolean Series key will be reindexed to match DataFrame index.\n",
      "  \n",
      "D:\\Anaconda\\lib\\site-packages\\ipykernel_launcher.py:8: UserWarning: Boolean Series key will be reindexed to match DataFrame index.\n",
      "  \n"
     ]
    },
    {
     "data": {
      "text/plain": [
       "<Figure size 1440x720 with 0 Axes>"
      ]
     },
     "execution_count": 8,
     "metadata": {},
     "output_type": "execute_result"
    },
    {
     "data": {
      "text/plain": [
       "<matplotlib.axes._subplots.AxesSubplot at 0x26f67932d30>"
      ]
     },
     "execution_count": 8,
     "metadata": {},
     "output_type": "execute_result"
    },
    {
     "data": {
      "text/plain": [
       "<matplotlib.axes._subplots.AxesSubplot at 0x26f67932d30>"
      ]
     },
     "execution_count": 8,
     "metadata": {},
     "output_type": "execute_result"
    },
    {
     "data": {
      "text/plain": [
       "Text(0, 0.5, '')"
      ]
     },
     "execution_count": 8,
     "metadata": {},
     "output_type": "execute_result"
    },
    {
     "data": {
      "text/plain": [
       "<matplotlib.patches.Circle at 0x26f67a11b00>"
      ]
     },
     "execution_count": 8,
     "metadata": {},
     "output_type": "execute_result"
    },
    {
     "data": {
      "text/plain": [
       "Text(0.5, 1.0, '9 Mujeres Medallistas')"
      ]
     },
     "execution_count": 8,
     "metadata": {},
     "output_type": "execute_result"
    },
    {
     "data": {
      "text/plain": [
       "<matplotlib.axes._subplots.AxesSubplot at 0x26f67a1a978>"
      ]
     },
     "execution_count": 8,
     "metadata": {},
     "output_type": "execute_result"
    },
    {
     "data": {
      "text/plain": [
       "<matplotlib.axes._subplots.AxesSubplot at 0x26f67a1a978>"
      ]
     },
     "execution_count": 8,
     "metadata": {},
     "output_type": "execute_result"
    },
    {
     "data": {
      "text/plain": [
       "Text(0, 0.5, '')"
      ]
     },
     "execution_count": 8,
     "metadata": {},
     "output_type": "execute_result"
    },
    {
     "data": {
      "text/plain": [
       "<matplotlib.patches.Circle at 0x26f67a0ec88>"
      ]
     },
     "execution_count": 8,
     "metadata": {},
     "output_type": "execute_result"
    },
    {
     "data": {
      "text/plain": [
       "Text(0.5, 1.0, '12 Hombres Medallistas')"
      ]
     },
     "execution_count": 8,
     "metadata": {},
     "output_type": "execute_result"
    },
    {
     "data": {
      "text/plain": [
       "<matplotlib.axes._subplots.AxesSubplot at 0x26f67a52b00>"
      ]
     },
     "execution_count": 8,
     "metadata": {},
     "output_type": "execute_result"
    },
    {
     "data": {
      "text/plain": [
       "<matplotlib.axes._subplots.AxesSubplot at 0x26f67a52b00>"
      ]
     },
     "execution_count": 8,
     "metadata": {},
     "output_type": "execute_result"
    },
    {
     "data": {
      "text/plain": [
       "Text(0, 0.5, '')"
      ]
     },
     "execution_count": 8,
     "metadata": {},
     "output_type": "execute_result"
    },
    {
     "data": {
      "text/plain": [
       "<matplotlib.patches.Circle at 0x26f67a52be0>"
      ]
     },
     "execution_count": 8,
     "metadata": {},
     "output_type": "execute_result"
    },
    {
     "data": {
      "text/plain": [
       "Text(0.5, 1.0, '21 Medallistas Totales')"
      ]
     },
     "execution_count": 8,
     "metadata": {},
     "output_type": "execute_result"
    },
    {
     "data": {
      "image/png": "[encoded data removed]",
      "text/plain": [
       "<Figure size 1440x720 with 3 Axes>"
      ]
     },
     "metadata": {},
     "output_type": "display_data"
    }
   ],
   "source": [
    "groupedCol=df[df['NOC']=='COL']#Crea DF a partir del original con datos solo de Colombia\n",
    "groupedCol.shape #Para revisar los cambios recientes\n",
    "groupedCol.head() #Para revisar los cambios recientes\n",
    "groupedCol.describe() #Para revisar los cambios recientes\n",
    "#Crea DF a partir del anterior pero con datos de medallistas de sexo femenino\n",
    "groupedFem=groupedCol[groupedCol['Sex']=='F'][groupedCol['Medal']!='No Medal']\n",
    "#Guarda en una variable la cantidad de datos únicos que hay de cada atleta femenina medallista\n",
    "totFem=len(groupedFem['ID'].unique())\n",
    "#Crea DF a partir del anterior pero con datos de medallistas de sexo masculino\n",
    "groupedMal=groupedCol[groupedCol['Sex']=='M'][groupedCol['Medal']!='No Medal']\n",
    "#Guarda en una variable la cantidad de datos únicos que hay de cada atleta masculino medallista\n",
    "totMal=len(groupedMal['ID'].unique())\n",
    "#Crea DF a partir del anterior pero con datos de medallistas tanto femeninos como masculinos\n",
    "groupedTm=groupedCol[groupedCol['Medal']!='No Medal']\n",
    "#Guarda en una variable la cantidad de datos únicos que hay de cada atleta masculino y femenino medallista\n",
    "tot=len(groupedTm['ID'].unique())\n",
    "#El contenedor de nivel superior para todos los elementos de graficado\n",
    "plt.figure(figsize=(20,10)) #figsize define el tamaño(anchoxalto) de la gráfica\n",
    "#Agrega una subgráfica a la figura actual\n",
    "plt.subplot(131) #(N. filasxN.columnasxposición)\n",
    "# nunique() se utiliza para obtener un recuento de valores únicos\n",
    "#Se agrupan las mujeres por medalla y 'ID' único para hacer un diagrama de pie\n",
    "#autopct da formato a los porcentajes(float con 1 punto decimal)\n",
    "#shadow para dibujar una sombra al diagrama de pie\n",
    "#pctdistance es la distancia del valor porcentaje al centro del diagrama\n",
    "#colors son para dibujar cada parte del pie distinta\n",
    "groupedFem.groupby(\"Medal\")[\"ID\"].nunique().plot.pie(autopct = \"%1.0f%%\",\n",
    "                                              shadow = True ,pctdistance=0.85, \n",
    "                                               colors = [\"#998456\",\"gold\",\"silver\"]) \n",
    "plt.ylabel(\"\")#Label eje Y\n",
    "#se dibuja un circulo blanco en el centro del diagrama de pie(y más pequeño) para dar efecto de dona\n",
    "circ = plt.Circle((0,0),.7,color = \"white\")\n",
    "#gca obtiene la instancia actual de Axes en la figura actual que coincide con los argumentos de palabra clave dados, o cree uno\n",
    "#add_artist agrega un artista(Clase base para objetos que se representan en una FigureCanvas) a los ejes y devuelve el artista\n",
    "plt.gca().add_artist(circ)\n",
    "#Título del diagrama de pie para las mujeres convirtiendo en cadena el total calculado anteriormente\n",
    "plt.title(str(totFem)+\" Mujeres Medallistas\")\n",
    "\n",
    "plt.subplot(132)\n",
    "groupedMal.groupby(\"Medal\")[\"ID\"].nunique().plot.pie(autopct = \"%1.0f%%\",\n",
    "                                              shadow = True ,pctdistance=0.85, \n",
    "                                               colors = [\"#998456\",\"gold\",\"silver\"]) \n",
    "plt.ylabel(\"\")\n",
    "circ = plt.Circle((0,0),.7,color = \"white\")\n",
    "plt.gca().add_artist(circ)\n",
    "plt.title(str(totMal)+\" Hombres Medallistas\")\n",
    "\n",
    "\n",
    "plt.subplot(133)\n",
    "groupedTm.groupby(\"Medal\")[\"ID\"].nunique().plot.pie(autopct = \"%1.0f%%\",\n",
    "                                              shadow = True ,pctdistance=0.85, \n",
    "                                               colors = [\"#998456\",\"gold\",\"silver\"])\n",
    "\n",
    "plt.ylabel(\"\")\n",
    "circ = plt.Circle((0,0),.7,color = \"white\")\n",
    "plt.gca().add_artist(circ)\n",
    "plt.title(str(tot)+\" Medallistas Totales\")\n",
    "\n",
    "plt.show()"
   ]
  },
  {
   "cell_type": "code",
   "execution_count": 21,
   "metadata": {},
   "outputs": [
    {
     "data": {
      "text/plain": [
       "(array([ 0,  1,  2,  3,  4,  5,  6,  7,  8,  9, 10, 11, 12, 13, 14, 15, 16,\n",
       "        17]), <a list of 18 Text xticklabel objects>)"
      ]
     },
     "execution_count": 21,
     "metadata": {},
     "output_type": "execute_result"
    },
    {
     "data": {
      "text/plain": [
       "Text(0, 0.5, 'count')"
      ]
     },
     "execution_count": 21,
     "metadata": {},
     "output_type": "execute_result"
    },
    {
     "data": {
      "text/plain": [
       "Text(0.5, 1.0, 'Colombian athletes by gender over years for Summer Olympics')"
      ]
     },
     "execution_count": 21,
     "metadata": {},
     "output_type": "execute_result"
    },
    {
     "data": {
      "text/plain": [
       "<matplotlib.legend.Legend at 0x26f6cd6f128>"
      ]
     },
     "execution_count": 21,
     "metadata": {},
     "output_type": "execute_result"
    },
    {
     "data": {
      "image/png": "[encoded data removed]",
      "text/plain": [
       "<Figure size 1008x432 with 1 Axes>"
      ]
     },
     "metadata": {
      "needs_background": "light"
     },
     "output_type": "display_data"
    }
   ],
   "source": [
    "#Crea DF a partir de DF con datos de Colombia agrupado por Year, Sex y ID único de cada atleta con index por defecto \n",
    "groupedSex = groupedCol.groupby([\"Year\",\"Sex\"])[\"ID\"].nunique().reset_index()\n",
    "\n",
    "fig = plt.figure(figsize=(14,6))\n",
    "#crea pointplot de Seaborn\n",
    "#grafo de Year vs ID único, dividido en lineas que representan a un Sex (Male en azul, Female en púrpura)\n",
    "ax = sns.pointplot(x = groupedSex[\"Year\"] , y = groupedSex[\"ID\"],\n",
    "                   markers=\"h\" , hue = groupedSex[\"Sex\"],palette = [\"b\",\"purple\"])\n",
    "#Crea grilla sobre el grafo y rota las variables del ejeX 60°\n",
    "plt.grid(True)\n",
    "plt.xticks(rotation = 60)\n",
    "#Pasa el color de fondo del grafo en gris\n",
    "ax.set_facecolor(\"lightgrey\")\n",
    "plt.ylabel(\"count\")\n",
    "plt.title(\"Colombian athletes by gender over years for Summer Olympics\")\n",
    "#Crea una leyenda en la mejor posición que considere Seaborn de tamaño 15\n",
    "plt.legend(loc = \"best\" ,prop={\"size\":15})"
   ]
  },
  {
   "cell_type": "code",
   "execution_count": 11,
   "metadata": {},
   "outputs": [
    {
     "data": {
      "text/plain": [
       "<Figure size 1440x720 with 0 Axes>"
      ]
     },
     "execution_count": 11,
     "metadata": {},
     "output_type": "execute_result"
    },
    {
     "data": {
      "text/plain": [
       "[Text(0, 0, 'Athletics'),\n",
       " Text(0, 0, 'Cycling'),\n",
       " Text(0, 0, 'Swimming'),\n",
       " Text(0, 0, 'Football'),\n",
       " Text(0, 0, 'Shooting'),\n",
       " Text(0, 0, 'Weightlifting'),\n",
       " Text(0, 0, 'Fencing'),\n",
       " Text(0, 0, 'Boxing'),\n",
       " Text(0, 0, 'Gymnastics'),\n",
       " Text(0, 0, 'Diving'),\n",
       " Text(0, 0, 'Wrestling'),\n",
       " Text(0, 0, 'Equestrianism'),\n",
       " Text(0, 0, 'Archery'),\n",
       " Text(0, 0, 'Tennis'),\n",
       " Text(0, 0, 'Rugby Sevens'),\n",
       " Text(0, 0, 'Judo'),\n",
       " Text(0, 0, 'Taekwondo'),\n",
       " Text(0, 0, 'Sailing'),\n",
       " Text(0, 0, 'Triathlon'),\n",
       " Text(0, 0, 'Table Tennis'),\n",
       " Text(0, 0, 'Synchronized Swimming'),\n",
       " Text(0, 0, 'Alpine Skiing'),\n",
       " Text(0, 0, 'Golf'),\n",
       " Text(0, 0, 'Rowing')]"
      ]
     },
     "execution_count": 11,
     "metadata": {},
     "output_type": "execute_result"
    },
    {
     "data": {
      "text/plain": [
       "Text(0.5, 1.0, 'Most sports participations of Colombia')"
      ]
     },
     "execution_count": 11,
     "metadata": {},
     "output_type": "execute_result"
    },
    {
     "data": {
      "text/plain": [
       "Text(-0.2, 196.5, '194')"
      ]
     },
     "execution_count": 11,
     "metadata": {},
     "output_type": "execute_result"
    },
    {
     "data": {
      "text/plain": [
       "Text(0.8, 163.5, '161')"
      ]
     },
     "execution_count": 11,
     "metadata": {},
     "output_type": "execute_result"
    },
    {
     "data": {
      "text/plain": [
       "Text(1.8, 114.5, '112')"
      ]
     },
     "execution_count": 11,
     "metadata": {},
     "output_type": "execute_result"
    },
    {
     "data": {
      "text/plain": [
       "Text(2.8000000000000003, 100.5, '98')"
      ]
     },
     "execution_count": 11,
     "metadata": {},
     "output_type": "execute_result"
    },
    {
     "data": {
      "text/plain": [
       "Text(3.8000000000000003, 58.5, '56')"
      ]
     },
     "execution_count": 11,
     "metadata": {},
     "output_type": "execute_result"
    },
    {
     "data": {
      "text/plain": [
       "Text(4.8, 57.5, '55')"
      ]
     },
     "execution_count": 11,
     "metadata": {},
     "output_type": "execute_result"
    },
    {
     "data": {
      "text/plain": [
       "Text(5.8, 49.5, '47')"
      ]
     },
     "execution_count": 11,
     "metadata": {},
     "output_type": "execute_result"
    },
    {
     "data": {
      "text/plain": [
       "Text(6.8, 47.5, '45')"
      ]
     },
     "execution_count": 11,
     "metadata": {},
     "output_type": "execute_result"
    },
    {
     "data": {
      "text/plain": [
       "Text(7.8, 35.5, '33')"
      ]
     },
     "execution_count": 11,
     "metadata": {},
     "output_type": "execute_result"
    },
    {
     "data": {
      "text/plain": [
       "Text(8.799999999999999, 26.5, '24')"
      ]
     },
     "execution_count": 11,
     "metadata": {},
     "output_type": "execute_result"
    },
    {
     "data": {
      "text/plain": [
       "Text(9.799999999999999, 23.5, '21')"
      ]
     },
     "execution_count": 11,
     "metadata": {},
     "output_type": "execute_result"
    },
    {
     "data": {
      "text/plain": [
       "Text(10.799999999999999, 21.5, '19')"
      ]
     },
     "execution_count": 11,
     "metadata": {},
     "output_type": "execute_result"
    },
    {
     "data": {
      "text/plain": [
       "Text(11.799999999999999, 18.5, '16')"
      ]
     },
     "execution_count": 11,
     "metadata": {},
     "output_type": "execute_result"
    },
    {
     "data": {
      "text/plain": [
       "Text(12.799999999999999, 15.5, '13')"
      ]
     },
     "execution_count": 11,
     "metadata": {},
     "output_type": "execute_result"
    },
    {
     "data": {
      "text/plain": [
       "Text(13.799999999999999, 14.5, '12')"
      ]
     },
     "execution_count": 11,
     "metadata": {},
     "output_type": "execute_result"
    },
    {
     "data": {
      "text/plain": [
       "Text(14.799999999999999, 14.5, '12')"
      ]
     },
     "execution_count": 11,
     "metadata": {},
     "output_type": "execute_result"
    },
    {
     "data": {
      "text/plain": [
       "Text(15.799999999999999, 11.5, '9')"
      ]
     },
     "execution_count": 11,
     "metadata": {},
     "output_type": "execute_result"
    },
    {
     "data": {
      "text/plain": [
       "Text(16.8, 8.5, '6')"
      ]
     },
     "execution_count": 11,
     "metadata": {},
     "output_type": "execute_result"
    },
    {
     "data": {
      "text/plain": [
       "Text(17.8, 5.5, '3')"
      ]
     },
     "execution_count": 11,
     "metadata": {},
     "output_type": "execute_result"
    },
    {
     "data": {
      "text/plain": [
       "Text(18.8, 5.5, '3')"
      ]
     },
     "execution_count": 11,
     "metadata": {},
     "output_type": "execute_result"
    },
    {
     "data": {
      "text/plain": [
       "Text(19.8, 4.5, '2')"
      ]
     },
     "execution_count": 11,
     "metadata": {},
     "output_type": "execute_result"
    },
    {
     "data": {
      "text/plain": [
       "Text(20.8, 4.5, '2')"
      ]
     },
     "execution_count": 11,
     "metadata": {},
     "output_type": "execute_result"
    },
    {
     "data": {
      "text/plain": [
       "Text(21.8, 3.5, '1')"
      ]
     },
     "execution_count": 11,
     "metadata": {},
     "output_type": "execute_result"
    },
    {
     "data": {
      "text/plain": [
       "Text(22.8, 3.5, '1')"
      ]
     },
     "execution_count": 11,
     "metadata": {},
     "output_type": "execute_result"
    },
    {
     "data": {
      "image/png": "[encoded data removed]",
      "text/plain": [
       "<Figure size 1440x720 with 1 Axes>"
      ]
     },
     "metadata": {
      "needs_background": "light"
     },
     "output_type": "display_data"
    }
   ],
   "source": [
    "sportsCol=groupedCol['Sport'] #guarda en una variable todos los valores de la columna 'Sport' del DF de Colombia  \n",
    "#El contenedor de nivel superior para todos los elementos de graficado\n",
    "plt.figure(figsize=(20, 10)) #figsize asigna el anchoxalto del grafo\n",
    "#Countplot de Seaborn muestra los conteos de observaciones en cada contenedor categórico usando barras\n",
    "#(datos,orden) el orden en este caso es por valores repetidos de mayor a menor\n",
    "graph=sns.countplot(sportsCol,order = sportsCol.value_counts().index)\n",
    "#Para dar formato y especificar los datos de los valores del eje X\n",
    "graph.set_xticklabels(graph.get_xticklabels(),rotation=90)\n",
    "plt.title('Most sports participations of Colombia')#titulo del grafo\n",
    "#patches hace referencia a los elementos que se pueden dibujar sobre un grafo de Seaborn\n",
    "#En este caso se anota la cantidad de atletas por deporte teniendo en cuenta el alto y ancho de las barras en el grafo\n",
    "#para su visualización\n",
    "for p in graph.patches:\n",
    "        graph.annotate('{:}'.format(p.get_height()), (p.get_x()+0.2, p.get_height()+2.5))"
   ]
  },
  {
   "cell_type": "code",
   "execution_count": 36,
   "metadata": {},
   "outputs": [
    {
     "data": {
      "text/plain": [
       "<Figure size 1440x720 with 0 Axes>"
      ]
     },
     "execution_count": 36,
     "metadata": {},
     "output_type": "execute_result"
    },
    {
     "data": {
      "text/plain": [
       "<matplotlib.axes._subplots.AxesSubplot at 0x26f6af54748>"
      ]
     },
     "execution_count": 36,
     "metadata": {},
     "output_type": "execute_result"
    },
    {
     "data": {
      "text/plain": [
       "<matplotlib.axes._subplots.AxesSubplot at 0x26f6af54748>"
      ]
     },
     "execution_count": 36,
     "metadata": {},
     "output_type": "execute_result"
    },
    {
     "data": {
      "text/plain": [
       "Text(0, 0.5, '')"
      ]
     },
     "execution_count": 36,
     "metadata": {},
     "output_type": "execute_result"
    },
    {
     "data": {
      "text/plain": [
       "<matplotlib.patches.Circle at 0x26f6fe0d940>"
      ]
     },
     "execution_count": 36,
     "metadata": {},
     "output_type": "execute_result"
    },
    {
     "data": {
      "text/plain": [
       "Text(0.5, 1.0, '945 Medallas de Oro')"
      ]
     },
     "execution_count": 36,
     "metadata": {},
     "output_type": "execute_result"
    },
    {
     "data": {
      "text/plain": [
       "<matplotlib.axes._subplots.AxesSubplot at 0x26f6fe04748>"
      ]
     },
     "execution_count": 36,
     "metadata": {},
     "output_type": "execute_result"
    },
    {
     "data": {
      "text/plain": [
       "<matplotlib.axes._subplots.AxesSubplot at 0x26f6fe04748>"
      ]
     },
     "execution_count": 36,
     "metadata": {},
     "output_type": "execute_result"
    },
    {
     "data": {
      "text/plain": [
       "Text(0, 0.5, '')"
      ]
     },
     "execution_count": 36,
     "metadata": {},
     "output_type": "execute_result"
    },
    {
     "data": {
      "text/plain": [
       "<matplotlib.patches.Circle at 0x26f6f8f3eb8>"
      ]
     },
     "execution_count": 36,
     "metadata": {},
     "output_type": "execute_result"
    },
    {
     "data": {
      "text/plain": [
       "Text(0.5, 1.0, '945 Medallas de Plata')"
      ]
     },
     "execution_count": 36,
     "metadata": {},
     "output_type": "execute_result"
    },
    {
     "data": {
      "text/plain": [
       "<matplotlib.axes._subplots.AxesSubplot at 0x26f6f904d30>"
      ]
     },
     "execution_count": 36,
     "metadata": {},
     "output_type": "execute_result"
    },
    {
     "data": {
      "text/plain": [
       "<matplotlib.axes._subplots.AxesSubplot at 0x26f6f904d30>"
      ]
     },
     "execution_count": 36,
     "metadata": {},
     "output_type": "execute_result"
    },
    {
     "data": {
      "text/plain": [
       "Text(0, 0.5, '')"
      ]
     },
     "execution_count": 36,
     "metadata": {},
     "output_type": "execute_result"
    },
    {
     "data": {
      "text/plain": [
       "<matplotlib.patches.Circle at 0x26f6f942cc0>"
      ]
     },
     "execution_count": 36,
     "metadata": {},
     "output_type": "execute_result"
    },
    {
     "data": {
      "text/plain": [
       "Text(0.5, 1.0, '14 Medallas de Bronce')"
      ]
     },
     "execution_count": 36,
     "metadata": {},
     "output_type": "execute_result"
    },
    {
     "data": {
      "image/png": "[encoded data removed]",
      "text/plain": [
       "<Figure size 1440x720 with 3 Axes>"
      ]
     },
     "metadata": {},
     "output_type": "display_data"
    }
   ],
   "source": [
    "#En un DF se guarda el DF de los datos de Colombia pero teniendo en cuenta solo los ganadores de oro\n",
    "groupedGold=groupedCol[groupedCol['Medal']=='Gold']\n",
    "#En una variable se guarda la cantidad total de medallas de oro a partir del DF anterior\n",
    "totGold=len(groupedCol['ID'])\n",
    "#En un DF se guarda el DF de los datos de Colombia pero teniendo en cuenta solo los ganadores de plata\n",
    "groupedSilv=groupedCol[groupedCol['Medal']=='Silver']\n",
    "#En una variable se guarda la cantidad total de medallas de plata a partir del DF anterior\n",
    "totSilv=len(groupedCol['ID'])\n",
    "#En un DF se guarda el DF de los datos de Colombia pero teniendo en cuenta solo los ganadores de bronce\n",
    "groupedBro=groupedCol[groupedCol['Medal']=='Bronze']\n",
    "#En una variable se guarda la cantidad total de medallas de bronce a partir del DF anterior\n",
    "totBro=len(groupedBro['ID'])\n",
    "#El contenedor de nivel superior para todos los elementos de graficado\n",
    "plt.figure(figsize=(20,10))#figsize asigna el anchoxalto del grafo\n",
    "#Agrega una subgráfica a la figura actual\n",
    "plt.subplot(131) #(N. filasxN.columnasxposición)\n",
    "#Se crea un diagrama de pie a partir del conteo de los valores de la columna 'Sport' del DF de oro\n",
    "#autopct le da formato con 1 decimal\n",
    "#shadow le dibuja una sombra\n",
    "#pctdistance es la distancia de los valores al centro del pie\n",
    "#colors son los colores que representan cada deporte\n",
    "groupedGold.Sport.value_counts().plot.pie(autopct = \"%1.0f%%\",\n",
    "                                              shadow = True ,pctdistance=0.85,\n",
    "                                                      colors=['red','pink','gray'])\n",
    "plt.ylabel(\"\") #label del eje Y\n",
    "#Crea circulo blanco en el centro y más pequeño que el pie para dar el efecto de dona\n",
    "circ = plt.Circle((0,0),.7,color = \"white\")\n",
    "#gca obtiene la instancia actual de Axes en la figura actual que coincide con los argumentos de palabra clave dados, o cree uno\n",
    "#add_artist agrega un artista(Clase base para objetos que se representan en una FigureCanvas) a los ejes y devuelve el artista\n",
    "plt.gca().add_artist(circ)\n",
    "#título del diagrama + cantidad de medallas de oro\n",
    "plt.title(str(totGold)+\" Medallas de Oro\")\n",
    "\n",
    "plt.subplot(132)\n",
    "groupedSilv.Sport.value_counts().plot.pie(autopct = \"%1.0f%%\",\n",
    "                                              shadow = True ,pctdistance=0.85,\n",
    "                                                     colors=['pink','blue','red','purple','green',\n",
    "                                                              'gray']) \n",
    "plt.ylabel(\"\")\n",
    "circ = plt.Circle((0,0),.7,color = \"white\")\n",
    "plt.gca().add_artist(circ)\n",
    "plt.title(str(totSilv)+\" Medallas de Plata\")\n",
    "\n",
    "\n",
    "plt.subplot(133)\n",
    "groupedBro.Sport.value_counts().plot.pie(autopct = \"%1.0f%%\",\n",
    "                                              shadow = True ,pctdistance=0.85,\n",
    "                                                    colors=['green','red','pink','yellow','purple',\n",
    "                                                              'royalblue','gray'])\n",
    "\n",
    "plt.ylabel(\"\")\n",
    "circ = plt.Circle((0,0),.7,color = \"white\")\n",
    "plt.gca().add_artist(circ)\n",
    "plt.title(str(totBro)+\" Medallas de Bronce\")\n",
    "\n",
    "plt.show()"
   ]
  },
  {
   "cell_type": "code",
   "execution_count": 35,
   "metadata": {},
   "outputs": [
    {
     "data": {
      "text/plain": [
       "(6, 15)"
      ]
     },
     "execution_count": 35,
     "metadata": {},
     "output_type": "execute_result"
    },
    {
     "data": {
      "text/html": [
       "<div>\n",
       "<style scoped>\n",
       "    .dataframe tbody tr th:only-of-type {\n",
       "        vertical-align: middle;\n",
       "    }\n",
       "\n",
       "    .dataframe tbody tr th {\n",
       "        vertical-align: top;\n",
       "    }\n",
       "\n",
       "    .dataframe thead th {\n",
       "        text-align: right;\n",
       "    }\n",
       "</style>\n",
       "<table border=\"1\" class=\"dataframe\">\n",
       "  <thead>\n",
       "    <tr style=\"text-align: right;\">\n",
       "      <th></th>\n",
       "      <th>ID</th>\n",
       "      <th>Name</th>\n",
       "      <th>Sex</th>\n",
       "      <th>Age (Years)</th>\n",
       "      <th>Height (cm)</th>\n",
       "      <th>Weight (kg)</th>\n",
       "      <th>Team</th>\n",
       "      <th>NOC</th>\n",
       "      <th>Games</th>\n",
       "      <th>Year</th>\n",
       "      <th>Season</th>\n",
       "      <th>City</th>\n",
       "      <th>Sport</th>\n",
       "      <th>Event</th>\n",
       "      <th>Medal</th>\n",
       "    </tr>\n",
       "  </thead>\n",
       "  <tbody>\n",
       "    <tr>\n",
       "      <th>29</th>\n",
       "      <td>32330</td>\n",
       "      <td>Launceston Elliot</td>\n",
       "      <td>M</td>\n",
       "      <td>21.0</td>\n",
       "      <td>188.0</td>\n",
       "      <td>102.0</td>\n",
       "      <td>Great Britain</td>\n",
       "      <td>GBR</td>\n",
       "      <td>1896 Summer</td>\n",
       "      <td>1896</td>\n",
       "      <td>Summer</td>\n",
       "      <td>Athina</td>\n",
       "      <td>Weightlifting</td>\n",
       "      <td>Weightlifting Men's Unlimited, Two Hands</td>\n",
       "      <td>Silver</td>\n",
       "    </tr>\n",
       "    <tr>\n",
       "      <th>37</th>\n",
       "      <td>32330</td>\n",
       "      <td>Launceston Elliot</td>\n",
       "      <td>M</td>\n",
       "      <td>21.0</td>\n",
       "      <td>188.0</td>\n",
       "      <td>102.0</td>\n",
       "      <td>Great Britain</td>\n",
       "      <td>GBR</td>\n",
       "      <td>1896 Summer</td>\n",
       "      <td>1896</td>\n",
       "      <td>Summer</td>\n",
       "      <td>Athina</td>\n",
       "      <td>Weightlifting</td>\n",
       "      <td>Weightlifting Men's Unlimited, One Hand</td>\n",
       "      <td>Gold</td>\n",
       "    </tr>\n",
       "    <tr>\n",
       "      <th>179</th>\n",
       "      <td>64683</td>\n",
       "      <td>Frank X. Kugler</td>\n",
       "      <td>M</td>\n",
       "      <td>25.0</td>\n",
       "      <td>170.0</td>\n",
       "      <td>75.0</td>\n",
       "      <td>Germany</td>\n",
       "      <td>GER</td>\n",
       "      <td>1904 Summer</td>\n",
       "      <td>1904</td>\n",
       "      <td>Summer</td>\n",
       "      <td>St. Louis</td>\n",
       "      <td>Weightlifting</td>\n",
       "      <td>Weightlifting Men's All-Around Dumbbell Contest</td>\n",
       "      <td>Bronze</td>\n",
       "    </tr>\n",
       "    <tr>\n",
       "      <th>183</th>\n",
       "      <td>64683</td>\n",
       "      <td>Frank X. Kugler</td>\n",
       "      <td>M</td>\n",
       "      <td>25.0</td>\n",
       "      <td>170.0</td>\n",
       "      <td>75.0</td>\n",
       "      <td>Germany</td>\n",
       "      <td>GER</td>\n",
       "      <td>1904 Summer</td>\n",
       "      <td>1904</td>\n",
       "      <td>Summer</td>\n",
       "      <td>St. Louis</td>\n",
       "      <td>Weightlifting</td>\n",
       "      <td>Weightlifting Men's Unlimited, Two Hands</td>\n",
       "      <td>Bronze</td>\n",
       "    </tr>\n",
       "    <tr>\n",
       "      <th>234</th>\n",
       "      <td>17647</td>\n",
       "      <td>Tullio Camillotti</td>\n",
       "      <td>M</td>\n",
       "      <td>26.0</td>\n",
       "      <td>175.0</td>\n",
       "      <td>98.0</td>\n",
       "      <td>Italy</td>\n",
       "      <td>ITA</td>\n",
       "      <td>1906 Summer</td>\n",
       "      <td>1906</td>\n",
       "      <td>Summer</td>\n",
       "      <td>Athina</td>\n",
       "      <td>Weightlifting</td>\n",
       "      <td>Weightlifting Men's Unlimited, One Hand</td>\n",
       "      <td>Silver</td>\n",
       "    </tr>\n",
       "  </tbody>\n",
       "</table>\n",
       "</div>"
      ],
      "text/plain": [
       "        ID               Name Sex  Age (Years)  Height (cm)  Weight (kg)  \\\n",
       "29   32330  Launceston Elliot   M         21.0        188.0        102.0   \n",
       "37   32330  Launceston Elliot   M         21.0        188.0        102.0   \n",
       "179  64683    Frank X. Kugler   M         25.0        170.0         75.0   \n",
       "183  64683    Frank X. Kugler   M         25.0        170.0         75.0   \n",
       "234  17647  Tullio Camillotti   M         26.0        175.0         98.0   \n",
       "\n",
       "              Team  NOC        Games  Year  Season       City          Sport  \\\n",
       "29   Great Britain  GBR  1896 Summer  1896  Summer     Athina  Weightlifting   \n",
       "37   Great Britain  GBR  1896 Summer  1896  Summer     Athina  Weightlifting   \n",
       "179        Germany  GER  1904 Summer  1904  Summer  St. Louis  Weightlifting   \n",
       "183        Germany  GER  1904 Summer  1904  Summer  St. Louis  Weightlifting   \n",
       "234          Italy  ITA  1906 Summer  1906  Summer     Athina  Weightlifting   \n",
       "\n",
       "                                               Event   Medal  \n",
       "29          Weightlifting Men's Unlimited, Two Hands  Silver  \n",
       "37           Weightlifting Men's Unlimited, One Hand    Gold  \n",
       "179  Weightlifting Men's All-Around Dumbbell Contest  Bronze  \n",
       "183         Weightlifting Men's Unlimited, Two Hands  Bronze  \n",
       "234          Weightlifting Men's Unlimited, One Hand  Silver  "
      ]
     },
     "execution_count": 35,
     "metadata": {},
     "output_type": "execute_result"
    },
    {
     "data": {
      "text/plain": [
       "<Figure size 1800x720 with 0 Axes>"
      ]
     },
     "execution_count": 35,
     "metadata": {},
     "output_type": "execute_result"
    },
    {
     "data": {
      "text/plain": [
       "<matplotlib.axes._subplots.AxesSubplot at 0x26f6e88f828>"
      ]
     },
     "execution_count": 35,
     "metadata": {},
     "output_type": "execute_result"
    },
    {
     "data": {
      "text/plain": [
       "Text(0.5, 1.0, 'Number of medals in weightlifting per NOC')"
      ]
     },
     "execution_count": 35,
     "metadata": {},
     "output_type": "execute_result"
    },
    {
     "data": {
      "text/plain": [
       "Text(0, 0.5, 'Total Medals')"
      ]
     },
     "execution_count": 35,
     "metadata": {},
     "output_type": "execute_result"
    },
    {
     "data": {
      "text/plain": [
       "Text(26, 20, '')"
      ]
     },
     "execution_count": 35,
     "metadata": {},
     "output_type": "execute_result"
    },
    {
     "data": {
      "text/plain": [
       "Text(26, 20, 'COLOMBIA')"
      ]
     },
     "execution_count": 35,
     "metadata": {},
     "output_type": "execute_result"
    },
    {
     "data": {
      "image/png": "[encoded data removed]",
      "text/plain": [
       "<Figure size 1800x720 with 1 Axes>"
      ]
     },
     "metadata": {
      "needs_background": "light"
     },
     "output_type": "display_data"
    }
   ],
   "source": [
    "#Crea un arreglo booleano a partir del DF original donde aloja la condición de que los datos correspondan a 'Weightlifting'\n",
    "totalWeightLift=df['Sport']=='Weightlifting'\n",
    "#Crea un DF a partir del original cuyos datos cumplan con ser de medallistas, en los juegos de verano, y que el deporte sea Weightlifting\n",
    "dfWeightLift=df[totalMed & totalSummer & totalWeightLift]\n",
    "Colombia=dfWeightLift[dfWeightLift['NOC']=='COL']\n",
    "Colombia.shape\n",
    "dfWeightLift.head()#Imprime las 5 primeras filas para ver el resultado\n",
    "#Crea una figura con tamaño determinado\n",
    "plt.figure(figsize=(25,10))\n",
    "#Crea un diagrama de barras a partir del número de medallas por NOC de la columna NOC del DF anterior\n",
    "dfWeightLift.NOC.value_counts().plot.bar()\n",
    "plt.title('Number of medals in weightlifting per NOC')\n",
    "plt.ylabel('Total Medals')\n",
    "\n",
    "#para dibujar la flecha de color negro apuntando a (27,6)\n",
    "plt.annotate('',\n",
    "            xy=(26, 6),\n",
    "            xycoords='data',\n",
    "            xytext=(26, 20),\n",
    "            arrowprops=\n",
    "                {'facecolor':'black','shrink':0.05})\n",
    "#para dibujar el texto de color negro, centrado, y en la posición (27,20), rodeado por una caja redondeada\n",
    "plt.text( 26,20, 'COLOMBIA',{'color': 'black', 'fontsize': 24, 'ha': 'center', 'va': 'center',\n",
    "          'bbox': dict(boxstyle=\"round\", fc=\"white\", ec=\"black\", pad=0.2)})\n",
    "\n",
    "plt.show()"
   ]
  },
  {
   "cell_type": "code",
   "execution_count": 23,
   "metadata": {},
   "outputs": [
    {
     "data": {
      "text/html": [
       "<div>\n",
       "<style scoped>\n",
       "    .dataframe tbody tr th:only-of-type {\n",
       "        vertical-align: middle;\n",
       "    }\n",
       "\n",
       "    .dataframe tbody tr th {\n",
       "        vertical-align: top;\n",
       "    }\n",
       "\n",
       "    .dataframe thead th {\n",
       "        text-align: right;\n",
       "    }\n",
       "</style>\n",
       "<table border=\"1\" class=\"dataframe\">\n",
       "  <thead>\n",
       "    <tr style=\"text-align: right;\">\n",
       "      <th></th>\n",
       "      <th>Year</th>\n",
       "      <th>ID</th>\n",
       "    </tr>\n",
       "  </thead>\n",
       "  <tbody>\n",
       "    <tr>\n",
       "      <th>0</th>\n",
       "      <td>1984</td>\n",
       "      <td>10</td>\n",
       "    </tr>\n",
       "    <tr>\n",
       "      <th>1</th>\n",
       "      <td>1988</td>\n",
       "      <td>10</td>\n",
       "    </tr>\n",
       "    <tr>\n",
       "      <th>2</th>\n",
       "      <td>1992</td>\n",
       "      <td>3</td>\n",
       "    </tr>\n",
       "    <tr>\n",
       "      <th>3</th>\n",
       "      <td>1996</td>\n",
       "      <td>10</td>\n",
       "    </tr>\n",
       "    <tr>\n",
       "      <th>4</th>\n",
       "      <td>2000</td>\n",
       "      <td>10</td>\n",
       "    </tr>\n",
       "  </tbody>\n",
       "</table>\n",
       "</div>"
      ],
      "text/plain": [
       "   Year  ID\n",
       "0  1984  10\n",
       "1  1988  10\n",
       "2  1992   3\n",
       "3  1996  10\n",
       "4  2000  10"
      ]
     },
     "execution_count": 23,
     "metadata": {},
     "output_type": "execute_result"
    },
    {
     "data": {
      "text/html": [
       "<div>\n",
       "<style scoped>\n",
       "    .dataframe tbody tr th:only-of-type {\n",
       "        vertical-align: middle;\n",
       "    }\n",
       "\n",
       "    .dataframe tbody tr th {\n",
       "        vertical-align: top;\n",
       "    }\n",
       "\n",
       "    .dataframe thead th {\n",
       "        text-align: right;\n",
       "    }\n",
       "</style>\n",
       "<table border=\"1\" class=\"dataframe\">\n",
       "  <thead>\n",
       "    <tr style=\"text-align: right;\">\n",
       "      <th></th>\n",
       "      <th>Year</th>\n",
       "      <th>ID</th>\n",
       "    </tr>\n",
       "  </thead>\n",
       "  <tbody>\n",
       "    <tr>\n",
       "      <th>0</th>\n",
       "      <td>1956</td>\n",
       "      <td>1</td>\n",
       "    </tr>\n",
       "    <tr>\n",
       "      <th>1</th>\n",
       "      <td>1960</td>\n",
       "      <td>2</td>\n",
       "    </tr>\n",
       "    <tr>\n",
       "      <th>2</th>\n",
       "      <td>1972</td>\n",
       "      <td>2</td>\n",
       "    </tr>\n",
       "    <tr>\n",
       "      <th>3</th>\n",
       "      <td>1976</td>\n",
       "      <td>2</td>\n",
       "    </tr>\n",
       "    <tr>\n",
       "      <th>4</th>\n",
       "      <td>1984</td>\n",
       "      <td>5</td>\n",
       "    </tr>\n",
       "  </tbody>\n",
       "</table>\n",
       "</div>"
      ],
      "text/plain": [
       "   Year  ID\n",
       "0  1956   1\n",
       "1  1960   2\n",
       "2  1972   2\n",
       "3  1976   2\n",
       "4  1984   5"
      ]
     },
     "execution_count": 23,
     "metadata": {},
     "output_type": "execute_result"
    },
    {
     "data": {
      "text/html": [
       "<div>\n",
       "<style scoped>\n",
       "    .dataframe tbody tr th:only-of-type {\n",
       "        vertical-align: middle;\n",
       "    }\n",
       "\n",
       "    .dataframe tbody tr th {\n",
       "        vertical-align: top;\n",
       "    }\n",
       "\n",
       "    .dataframe thead th {\n",
       "        text-align: right;\n",
       "    }\n",
       "</style>\n",
       "<table border=\"1\" class=\"dataframe\">\n",
       "  <thead>\n",
       "    <tr style=\"text-align: right;\">\n",
       "      <th></th>\n",
       "      <th>Year</th>\n",
       "      <th>ID</th>\n",
       "    </tr>\n",
       "  </thead>\n",
       "  <tbody>\n",
       "    <tr>\n",
       "      <th>0</th>\n",
       "      <td>1952</td>\n",
       "      <td>2</td>\n",
       "    </tr>\n",
       "    <tr>\n",
       "      <th>1</th>\n",
       "      <td>1956</td>\n",
       "      <td>2</td>\n",
       "    </tr>\n",
       "    <tr>\n",
       "      <th>2</th>\n",
       "      <td>1960</td>\n",
       "      <td>6</td>\n",
       "    </tr>\n",
       "    <tr>\n",
       "      <th>3</th>\n",
       "      <td>1964</td>\n",
       "      <td>7</td>\n",
       "    </tr>\n",
       "    <tr>\n",
       "      <th>4</th>\n",
       "      <td>1968</td>\n",
       "      <td>7</td>\n",
       "    </tr>\n",
       "  </tbody>\n",
       "</table>\n",
       "</div>"
      ],
      "text/plain": [
       "   Year  ID\n",
       "0  1952   2\n",
       "1  1956   2\n",
       "2  1960   6\n",
       "3  1964   7\n",
       "4  1968   7"
      ]
     },
     "execution_count": 23,
     "metadata": {},
     "output_type": "execute_result"
    },
    {
     "data": {
      "image/png": "[encoded data removed]",
      "text/plain": [
       "<Figure size 432x288 with 1 Axes>"
      ]
     },
     "metadata": {
      "needs_background": "light"
     },
     "output_type": "display_data"
    }
   ],
   "source": [
    "china=df['NOC']=='CHN' #Crea variable donde se guardan los datos del DF original con datos de China\n",
    "colom=df['NOC']=='COL' #Crea variable donde se guardan los datos del DF original con datos de Colombia\n",
    "urs=df['NOC']=='URS' #Crea variable donde se guardan los datos del DF original con datos de la URS\n",
    "wei=df['Sport']=='Weightlifting' #Crea variable donde se guardan los datos del DF original con datos de Weightlifting\n",
    "#Crea DF a partir del original con datos del Weightlifting en China\n",
    "dfChi=df[china & wei ]\n",
    "#Crea DF a partir del original con datos del Weightlifting en Colombia\n",
    "dfColo=df[colom & wei]\n",
    "#Crea DF a partir del original con datos del Weightlifting en la URS\n",
    "dfUrs=df[urs & wei]\n",
    "#Agrupa el DF de China por año y por ID(atleta) único\n",
    "#Restableece el índice del DF y use el predeterminado en su lugar.\n",
    "dfChi = dfChi.groupby(\"Year\")[\"ID\"].nunique().reset_index()\n",
    "#Agrupa el DF de Colombia por año y por ID(atleta) único\n",
    "#Restableece el índice del DF y use el predeterminado en su lugar.\n",
    "dfColo = dfColo.groupby(\"Year\")[\"ID\"].nunique().reset_index()\n",
    "#Agrupa el DF de la URS por año y por ID(atleta) único\n",
    "#Restableece el índice del DF y use el predeterminado en su lugar.\n",
    "dfUrs = dfUrs.groupby(\"Year\")[\"ID\"].nunique().reset_index()\n",
    "#Muestra el head de cada uno para visualizar los cambios\n",
    "dfChi.head()\n",
    "dfColo.head()\n",
    "dfUrs.head()\n",
    "#Crea un diagrama de lineas punteadas de Year vs ID con cada DF\n",
    "_=plt.plot(dfChi['Year'],dfChi['ID'],'--r',color='red',label='China')\n",
    "_=plt.plot(dfColo['Year'],dfColo['ID'],'--b',color='blue',label='Colombia')\n",
    "_=plt.plot(dfUrs['Year'],dfUrs['ID'],'--g',color='green',label='URS')\n",
    "#Crea una leyenda para diferenciar visualmente a qué DF corresponde cada linea\n",
    "_=plt.legend(loc='upper left')\n",
    "_=plt.xlabel('Year')#label eje x\n",
    "_=plt.ylabel('Number of Athletes')#label eje y\n",
    "_=plt.title('Chinese and Colombian weightlifting athletes over the years for Summer Olympics')\n",
    "plt.grid()#Para dibujar una grilla de lineas sobre el grafo\n",
    "plt.show()"
   ]
  },
  {
   "cell_type": "code",
   "execution_count": 24,
   "metadata": {},
   "outputs": [
    {
     "data": {
      "text/html": [
       "<div>\n",
       "<style scoped>\n",
       "    .dataframe tbody tr th:only-of-type {\n",
       "        vertical-align: middle;\n",
       "    }\n",
       "\n",
       "    .dataframe tbody tr th {\n",
       "        vertical-align: top;\n",
       "    }\n",
       "\n",
       "    .dataframe thead th {\n",
       "        text-align: right;\n",
       "    }\n",
       "</style>\n",
       "<table border=\"1\" class=\"dataframe\">\n",
       "  <thead>\n",
       "    <tr style=\"text-align: right;\">\n",
       "      <th></th>\n",
       "      <th>Year</th>\n",
       "      <th>ID</th>\n",
       "    </tr>\n",
       "  </thead>\n",
       "  <tbody>\n",
       "    <tr>\n",
       "      <th>0</th>\n",
       "      <td>1896</td>\n",
       "      <td>9</td>\n",
       "    </tr>\n",
       "    <tr>\n",
       "      <th>1</th>\n",
       "      <td>1900</td>\n",
       "      <td>20</td>\n",
       "    </tr>\n",
       "    <tr>\n",
       "      <th>2</th>\n",
       "      <td>1904</td>\n",
       "      <td>34</td>\n",
       "    </tr>\n",
       "    <tr>\n",
       "      <th>3</th>\n",
       "      <td>1906</td>\n",
       "      <td>45</td>\n",
       "    </tr>\n",
       "    <tr>\n",
       "      <th>4</th>\n",
       "      <td>1908</td>\n",
       "      <td>106</td>\n",
       "    </tr>\n",
       "  </tbody>\n",
       "</table>\n",
       "</div>"
      ],
      "text/plain": [
       "   Year   ID\n",
       "0  1896    9\n",
       "1  1900   20\n",
       "2  1904   34\n",
       "3  1906   45\n",
       "4  1908  106"
      ]
     },
     "execution_count": 24,
     "metadata": {},
     "output_type": "execute_result"
    },
    {
     "data": {
      "text/html": [
       "<div>\n",
       "<style scoped>\n",
       "    .dataframe tbody tr th:only-of-type {\n",
       "        vertical-align: middle;\n",
       "    }\n",
       "\n",
       "    .dataframe tbody tr th {\n",
       "        vertical-align: top;\n",
       "    }\n",
       "\n",
       "    .dataframe thead th {\n",
       "        text-align: right;\n",
       "    }\n",
       "</style>\n",
       "<table border=\"1\" class=\"dataframe\">\n",
       "  <thead>\n",
       "    <tr style=\"text-align: right;\">\n",
       "      <th></th>\n",
       "      <th>Year</th>\n",
       "      <th>ID</th>\n",
       "    </tr>\n",
       "  </thead>\n",
       "  <tbody>\n",
       "    <tr>\n",
       "      <th>0</th>\n",
       "      <td>1896</td>\n",
       "      <td>11</td>\n",
       "    </tr>\n",
       "    <tr>\n",
       "      <th>1</th>\n",
       "      <td>1900</td>\n",
       "      <td>34</td>\n",
       "    </tr>\n",
       "    <tr>\n",
       "      <th>2</th>\n",
       "      <td>1904</td>\n",
       "      <td>52</td>\n",
       "    </tr>\n",
       "    <tr>\n",
       "      <th>3</th>\n",
       "      <td>1906</td>\n",
       "      <td>77</td>\n",
       "    </tr>\n",
       "    <tr>\n",
       "      <th>4</th>\n",
       "      <td>1908</td>\n",
       "      <td>187</td>\n",
       "    </tr>\n",
       "  </tbody>\n",
       "</table>\n",
       "</div>"
      ],
      "text/plain": [
       "   Year   ID\n",
       "0  1896   11\n",
       "1  1900   34\n",
       "2  1904   52\n",
       "3  1906   77\n",
       "4  1908  187"
      ]
     },
     "execution_count": 24,
     "metadata": {},
     "output_type": "execute_result"
    },
    {
     "data": {
      "image/png": "[encoded data removed]",
      "text/plain": [
       "<Figure size 432x288 with 1 Axes>"
      ]
     },
     "metadata": {
      "needs_background": "light"
     },
     "output_type": "display_data"
    },
    {
     "data": {
      "text/plain": [
       "LinearRegression(copy_X=True, fit_intercept=True, n_jobs=None,\n",
       "         normalize=False)"
      ]
     },
     "execution_count": 24,
     "metadata": {},
     "output_type": "execute_result"
    },
    {
     "name": "stdout",
     "output_type": "stream",
     "text": [
      "Pendiente:  0.16979518389053866\n",
      "Intercepción:  60.540333143973726\n"
     ]
    },
    {
     "data": {
      "text/plain": [
       "array([145.43792509])"
      ]
     },
     "execution_count": 24,
     "metadata": {},
     "output_type": "execute_result"
    },
    {
     "data": {
      "text/plain": [
       "0.9815923529980868"
      ]
     },
     "execution_count": 24,
     "metadata": {},
     "output_type": "execute_result"
    },
    {
     "data": {
      "image/png": "[encoded data removed]",
      "text/plain": [
       "<Figure size 432x288 with 1 Axes>"
      ]
     },
     "metadata": {
      "needs_background": "light"
     },
     "output_type": "display_data"
    }
   ],
   "source": [
    "#Crea DF a partir del original con los datos de los medallistas\n",
    "dfMedallas=df[df['Medal']!='No Medal']\n",
    "#Agrupa el DF de los medallistas por Year, deja el index por defecto\n",
    "#agg= Agregación usando una o más operaciones sobre el eje especificado. \n",
    "#En este caso se agregan al grupo los ID únicos\n",
    "dfWinners=dfMedallas.groupby(['Year'],as_index=False).agg({'ID': pd.Series.nunique})\n",
    "#Agrupa un DF de todos los atletas por Year, deja el index por defecto y agrega al grupo los ID únicos\n",
    "dfComplete=df.groupby(['Year'],as_index=False).agg({'ID': pd.Series.nunique})\n",
    "#imprime las 1ras 5 filas de ambos DF para ver su contenido\n",
    "dfWinners.head()\n",
    "dfComplete.head()\n",
    "#Crea un gráfico Scatter= en el que los valores de 2 variables se trazan a lo largo de 2 ejes, el patrón de los puntos resultantes revela cualquier correlación presente \n",
    "#(Datax,Datay)\n",
    "#Grafo lo crea de ID de todos los atletas vs ID de todos los medallistas\n",
    "_=plt.scatter(dfComplete['ID'],dfWinners['ID'])\n",
    "_=plt.xlabel('ID')#label eje x\n",
    "_=plt.ylabel('IDWin')#label eje y\n",
    "plt.show()#muestra el grafo\n",
    "#newaxis=utilizado para aumentar la dimensión de la matriz existente en una dimensión más, cuando se utiliza una vez\n",
    "#Al DF de ID de todos los atletas se le vuelve 2D con todos sus valores y se guarda en x \n",
    "x=dfComplete.ID[:,np.newaxis]\n",
    "#Al DF de ID de medallistas se le toman todos sus valores en forma de serie y se guardan en y\n",
    "y=dfWinners['ID'].values\n",
    "#La regresión lineal es una forma de predecir una respuesta Y sobre la base de una sola variable predictiva X\n",
    "#Se supone que existe una relación lineal aproximadamente entre X e Y\n",
    "lr=lm.LinearRegression() # Crear instancia de linea de regresión\n",
    "lr.fit(x,y)#fit se usa para entrenar el modelo a partir de los datos x,y \n",
    "b=lr.coef_[0]#hace referencia a la pendiente de la recta resultante\n",
    "a=lr.intercept_#hace referencia al punto de intercepción de la recta resultante\n",
    "print('Pendiente: ',b)\n",
    "print('Intercepción: ',a)\n",
    "\n",
    "lr.predict([[500]]) # Dada una delegación de 500 atletas el modelo predice que podrían haber 145 medallistas aprox.\n",
    "lr.score(x,y) # El score 0.98 dice que el modelo fue bueno, pero, siempre entre más datos se tomen, mejor la regresión\n",
    "_2=plt.scatter(x,y)\n",
    "#Se dibuja en rojo la recta resultante de la predicción sobre el grafo Scatter de la distribución que se tenía previamente\n",
    "_2=plt.xlabel('IDTotal')\n",
    "_2=plt.ylabel('IDWin')\n",
    "_2=plt.plot(x,lr.predict(x),color='red',linewidth=3)\n",
    "plt.show()"
   ]
  },
  {
   "cell_type": "code",
   "execution_count": null,
   "metadata": {},
   "outputs": [],
   "source": []
  },
  {
   "cell_type": "code",
   "execution_count": null,
   "metadata": {},
   "outputs": [],
   "source": []
  }
 ],
 "metadata": {
  "kernelspec": {
   "display_name": "Python 3",
   "language": "python",
   "name": "python3"
  },
  "language_info": {
   "codemirror_mode": {
    "name": "ipython",
    "version": 3
   },
   "file_extension": ".py",
   "mimetype": "text/x-python",
   "name": "python",
   "nbconvert_exporter": "python",
   "pygments_lexer": "ipython3",
   "version": "3.7.1"
  }
 },
 "nbformat": 4,
 "nbformat_minor": 2
}
